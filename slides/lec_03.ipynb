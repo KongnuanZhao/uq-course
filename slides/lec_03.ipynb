{
 "cells": [
  {
   "cell_type": "markdown",
   "metadata": {
    "slideshow": {
     "slide_type": "slide"
    }
   },
   "source": [
    "# Lecture 3 - Probability Distributions\n",
    "\n",
    "## Objectives\n",
    "+ Learn about some famous discrete PDFs\n",
    "+ Learn about some famous continous PDFs"
   ]
  },
  {
   "cell_type": "markdown",
   "metadata": {
    "slideshow": {
     "slide_type": "slide"
    }
   },
   "source": [
    "## Discrete random variables\n",
    "\n",
    "### Coin flipping: Heads = 1, Tails = 0 - The Bernulli Distribution\n",
    "\n",
    "Let $X$ be the following random variable:\n",
    "$$\n",
    "X = \\begin{cases}\n",
    "1,& \\mbox{with probability}\\;\\theta,\\\\\n",
    "0,& \\mbox{with probability}\\;1-\\theta,\n",
    "\\end{cases}\n",
    "$$\n",
    "where $\\theta\\in[0,1]$ is the probability of getting heads (i.e., 1).\n",
    "The PDF of this random variable has two values:\n",
    "$$\n",
    "p(X=1|\\theta) = \\theta,\n",
    "$$\n",
    "and\n",
    "$$\n",
    "p(X=0|\\theta) = 1-\\theta.\n",
    "$$\n",
    "\n",
    "The expected value is:\n",
    "$$\n",
    "\\mathbb{E}[X|\\theta] = \\sum_x xp(X=x|\\theta) = 1\\times p(X=1|\\theta) + 0\\times p(X=0|\\theta) = \\theta.\n",
    "$$\n",
    "\n",
    "The \"coin flipping\" random variable is also known as a Bernulli random\n",
    "variable (or Bernulli trial).\n",
    "Typically, we write:\n",
    "$$\n",
    "X=x|\\theta \\sim \\mbox{Bern}(X=x|\\theta) = \\theta^{x}(1-\\theta)^{1-x}.$$\n"
   ]
  },
  {
   "cell_type": "markdown",
   "metadata": {
    "slideshow": {
     "slide_type": "slide"
    }
   },
   "source": [
    "Let's play with this random variable using [scipy.stats](http://docs.scipy.org/doc/scipy/reference/stats.html),\n",
    "and specifically [scipy.stats.bernulli](http://docs.scipy.org/doc/scipy/reference/generated/scipy.stats.bernoulli.html#scipy.stats.bernoulli)."
   ]
  },
  {
   "cell_type": "code",
   "execution_count": 21,
   "metadata": {
    "collapsed": false
   },
   "outputs": [
    {
     "data": {
      "text/plain": [
       "array([0, 0, 1, 0, 0, 0, 0, 0, 0, 0, 1, 0, 0, 1, 0, 1, 0, 1, 0, 1])"
      ]
     },
     "execution_count": 21,
     "metadata": {},
     "output_type": "execute_result"
    }
   ],
   "source": [
    "# Initialize the random variable\n",
    "import scipy.stats as st\n",
    "X = st.bernoulli(0.25)\n",
    "# Take 10 samples:\n",
    "X.rvs(20)"
   ]
  },
  {
   "cell_type": "code",
   "execution_count": 22,
   "metadata": {
    "collapsed": false
   },
   "outputs": [
    {
     "data": {
      "text/plain": [
       "0.25"
      ]
     },
     "execution_count": 22,
     "metadata": {},
     "output_type": "execute_result"
    }
   ],
   "source": [
    "# You can also compute the mean of a random variable:\n",
    "X.mean()"
   ]
  },
  {
   "cell_type": "code",
   "execution_count": 23,
   "metadata": {
    "collapsed": false
   },
   "outputs": [
    {
     "data": {
      "text/plain": [
       "0.1875"
      ]
     },
     "execution_count": 23,
     "metadata": {},
     "output_type": "execute_result"
    }
   ],
   "source": [
    "# The variance\n",
    "X.var()"
   ]
  },
  {
   "cell_type": "code",
   "execution_count": 24,
   "metadata": {
    "collapsed": false
   },
   "outputs": [
    {
     "data": {
      "text/plain": [
       "0.0"
      ]
     },
     "execution_count": 24,
     "metadata": {},
     "output_type": "execute_result"
    }
   ],
   "source": [
    "# You can evaluate the PDF anywhere you want\n",
    "# (called probability mass function):\n",
    "X.pmf(0.5)"
   ]
  },
  {
   "cell_type": "code",
   "execution_count": 25,
   "metadata": {
    "collapsed": false
   },
   "outputs": [
    {
     "data": {
      "text/plain": [
       "0.75"
      ]
     },
     "execution_count": 25,
     "metadata": {},
     "output_type": "execute_result"
    }
   ],
   "source": [
    "X.pmf(0.)"
   ]
  },
  {
   "cell_type": "code",
   "execution_count": 26,
   "metadata": {
    "collapsed": false
   },
   "outputs": [
    {
     "data": {
      "text/plain": [
       "0.25"
      ]
     },
     "execution_count": 26,
     "metadata": {},
     "output_type": "execute_result"
    }
   ],
   "source": [
    "X.pmf(1.)"
   ]
  },
  {
   "cell_type": "markdown",
   "metadata": {
    "slideshow": {
     "slide_type": "slide"
    }
   },
   "source": [
    "### N Coin Flips - The Binomial Distribution\n",
    "\n",
    "Consider an experiment with two possible outcomes: 1 and 0 (success and faillure).\n",
    "Let $\\theta$ be the probability of success.\n",
    "Now assume that you perform the experiment $N$ times.\n",
    "Let $X$ the random variable that counts the succesfull experiments.\n",
    "We say that $X$ is a Binomial random variable. Using counting arguments, one can show that the PDF of $X$ is:\n",
    "$$\n",
    "p(X=k|N,\\theta) = \\mbox{Bin}(X=k|N,\\theta) = \\left(\\frac{N}{k}\\right)\\theta^k(1-\\theta)^{N-k}.\n",
    "$$\n",
    "We can also show that the mean is\n",
    "$$\n",
    "\\mathbb{E}[X|N,\\theta] = N\\theta,\n",
    "$$\n",
    "and that the variance is \n",
    "$$\n",
    "\\mathbb{V}[X|N,\\theta] = N\\theta(1-\\theta).\n",
    "$$\n",
    "\n",
    "We can play with this using [scipy.stats.binom](http://docs.scipy.org/doc/scipy/reference/generated/scipy.stats.binom.html#scipy.stats.binom):"
   ]
  },
  {
   "cell_type": "code",
   "execution_count": 31,
   "metadata": {
    "collapsed": false,
    "slideshow": {
     "slide_type": "slide"
    }
   },
   "outputs": [
    {
     "data": {
      "text/plain": [
       "array([4, 3, 5, 3, 1, 0, 4, 3, 1, 3])"
      ]
     },
     "execution_count": 31,
     "metadata": {},
     "output_type": "execute_result"
    }
   ],
   "source": [
    "X = st.binom(10, 0.25) # N, theta\n",
    "# Take samples.\n",
    "X.rvs(10)"
   ]
  },
  {
   "cell_type": "code",
   "execution_count": 34,
   "metadata": {
    "collapsed": false
   },
   "outputs": [
    {
     "name": "stdout",
     "output_type": "stream",
     "text": [
      "2.5\n",
      "1.875\n",
      "0.36514837167\n",
      "-0.0666666666667\n"
     ]
    }
   ],
   "source": [
    "# Get some statistics\n",
    "mean, var, skew, kurt = X.stats(moments='mvsk')\n",
    "print mean\n",
    "print var\n",
    "print skew\n",
    "print kurt"
   ]
  },
  {
   "cell_type": "markdown",
   "metadata": {
    "slideshow": {
     "slide_type": "slide"
    }
   },
   "source": [
    "Let's use the binomial we have just constructed to demonstrated yet another attribute of random variables, the **percent point function**.\n",
    "The percent point function, is actually the inverse of the CDF.\n",
    "For example:"
   ]
  },
  {
   "cell_type": "code",
   "execution_count": 37,
   "metadata": {
    "collapsed": false
   },
   "outputs": [
    {
     "data": {
      "text/plain": [
       "0.0"
      ]
     },
     "execution_count": 37,
     "metadata": {},
     "output_type": "execute_result"
    }
   ],
   "source": [
    "X.ppf(0.01)"
   ]
  },
  {
   "cell_type": "markdown",
   "metadata": {
    "slideshow": {
     "slide_type": "slide"
    }
   },
   "source": [
    "which means that with probability 0.01, X is less than 0, or"
   ]
  },
  {
   "cell_type": "code",
   "execution_count": 38,
   "metadata": {
    "collapsed": false
   },
   "outputs": [
    {
     "data": {
      "text/plain": [
       "6.0"
      ]
     },
     "execution_count": 38,
     "metadata": {},
     "output_type": "execute_result"
    }
   ],
   "source": [
    "X.ppf(0.99)"
   ]
  },
  {
   "cell_type": "markdown",
   "metadata": {
    "slideshow": {
     "slide_type": "slide"
    }
   },
   "source": [
    "which means that with probability 0.99, X is less than 6, or"
   ]
  },
  {
   "cell_type": "code",
   "execution_count": 39,
   "metadata": {
    "collapsed": false
   },
   "outputs": [
    {
     "data": {
      "text/plain": [
       "2.0"
      ]
     },
     "execution_count": 39,
     "metadata": {},
     "output_type": "execute_result"
    }
   ],
   "source": [
    "X.ppf(0.5)"
   ]
  },
  {
   "cell_type": "markdown",
   "metadata": {
    "slideshow": {
     "slide_type": "slide"
    }
   },
   "source": [
    "which means that with probability 0.5, X is less than 2."
   ]
  },
  {
   "cell_type": "markdown",
   "metadata": {
    "slideshow": {
     "slide_type": "slide"
    }
   },
   "source": [
    "Now, let's actually visualize the Binomial distribution:"
   ]
  },
  {
   "cell_type": "code",
   "execution_count": 59,
   "metadata": {
    "collapsed": false
   },
   "outputs": [
    {
     "data": {
      "image/png": "[encoded data removed]",
      "text/plain": [
       "<matplotlib.figure.Figure at 0x1106fb2d0>"
      ]
     },
     "metadata": {},
     "output_type": "display_data"
    }
   ],
   "source": [
    "import matplotlib.pyplot as plt\n",
    "%matplotlib inline\n",
    "import numpy as np\n",
    "from ipywidgets import interactive\n",
    "def visualize_binomial(N=10, theta=0.25):\n",
    "    X = st.binom(N, theta)\n",
    "    x = np.arange(0, N)\n",
    "    plt.vlines(x, 0, X.pmf(x), color='b', alpha=0.5, lw=5)\n",
    "interactive(visualize_binomial, N=(1, 100, 1), theta=(0, 1., 0.01))"
   ]
  },
  {
   "cell_type": "markdown",
   "metadata": {
    "slideshow": {
     "slide_type": "slide"
    }
   },
   "source": [
    "### Other Important Discrete Random Variables\n",
    "+ [Poisson random variable](https://en.wikipedia.org/wiki/Poisson_distribution) (see also\n",
    "[scipy.stats.poisson](http://docs.scipy.org/doc/scipy/reference/generated/scipy.stats.poisson.html#scipy.stats.poisson)), which is used to describe the number of events occuring in a fixed time interval."
   ]
  },
  {
   "cell_type": "markdown",
   "metadata": {
    "slideshow": {
     "slide_type": "slide"
    }
   },
   "source": [
    "## Continuous Random Variables\n",
    "\n",
    "### Uniform distribution \n",
    "\n",
    "The uniform distribution over an interval $[a, b]$ can be used to describe our state of knowledge about random variable known to be within this interval, if nothing else is known about them.\n",
    "We say that $X$ is a uniform random variable on the interval $[a, b]$,\n",
    "and write:\n",
    "$$\n",
    "x|a,b \\sim U(x|a,b) = \n",
    "\\begin{cases}\n",
    "\\frac{1}{b - a},&\\mbox{if}\\;x\\in[a,b],\\\\\n",
    "0,&\\mbox{otherwise}.\n",
    "\\end{cases}\n",
    "$$\n",
    "\n",
    "You can play with it using [scipy.stats](http://docs.scipy.org/doc/scipy/reference/generated/scipy.stats.uniform.html#scipy.stats.uniform):"
   ]
  },
  {
   "cell_type": "code",
   "execution_count": 60,
   "metadata": {
    "collapsed": false
   },
   "outputs": [
    {
     "data": {
      "text/plain": [
       "array([ 0.5334961 ,  0.16581931,  0.78658391,  0.85022527,  0.10600555,\n",
       "        0.76270302,  0.43222264,  0.9725804 ,  0.937761  ,  0.16955123])"
      ]
     },
     "execution_count": 60,
     "metadata": {},
     "output_type": "execute_result"
    }
   ],
   "source": [
    "X = st.uniform(0, 1)\n",
    "X.rvs(10)"
   ]
  },
  {
   "cell_type": "markdown",
   "metadata": {
    "slideshow": {
     "slide_type": "slide"
    }
   },
   "source": [
    "Let's take a large sample and draw the histogram:"
   ]
  },
  {
   "cell_type": "code",
   "execution_count": 67,
   "metadata": {
    "collapsed": false
   },
   "outputs": [
    {
     "data": {
      "text/plain": [
       "(array([ 1.12835309,  0.8563394 ,  0.93693605,  0.93693605,  1.10820393,\n",
       "         1.09812935,  1.12835309,  0.84626482,  1.09812935,  0.93693605]),\n",
       " array([  5.81261786e-04,   9.98409715e-02,   1.99100681e-01,\n",
       "          2.98360391e-01,   3.97620101e-01,   4.96879810e-01,\n",
       "          5.96139520e-01,   6.95399230e-01,   7.94658939e-01,\n",
       "          8.93918649e-01,   9.93178359e-01]),\n",
       " <a list of 1 Patch objects>)"
      ]
     },
     "execution_count": 67,
     "metadata": {},
     "output_type": "execute_result"
    },
    {
     "data": {
      "image/png": "[encoded data removed]",
      "text/plain": [
       "<matplotlib.figure.Figure at 0x110705890>"
      ]
     },
     "metadata": {},
     "output_type": "display_data"
    }
   ],
   "source": [
    "x = np.linspace(0, 1, 100)\n",
    "plt.plot(x, X.pdf(x), 'k-', lw=2)\n",
    "plt.hist(X.rvs(1000), normed=True, histtype='stepfilled', alpha=0.5)"
   ]
  },
  {
   "cell_type": "markdown",
   "metadata": {
    "slideshow": {
     "slide_type": "slide"
    }
   },
   "source": [
    "### The Beta Distribution\n",
    "\n",
    "The Beta distribution is suitable for parameters that take values in $[0,1]$, but not necessarily in a uniform manner. \n",
    "The $\\theta$ describing the probability of success in a Bernulli trial was such a parameter. Our state of knowledge about it, can thus be represented using a Beta distribution.\n",
    "The definition of the Beta distribution is conditional on two parameters\n",
    "$a, b > 0$ that control its shape:\n",
    "$$\n",
    "\\theta|a,b \\sim \\frac{\\Gamma(a+b)}{\\Gamma(a)\\Gamma(b)}\\theta^{a-1}(1-\\theta)^{b-1},\n",
    "$$\n",
    "where $\\Gamma(\\cdot)$ is the [Gamma function](https://en.wikipedia.org/wiki/Gamma_function)."
   ]
  },
  {
   "cell_type": "code",
   "execution_count": 69,
   "metadata": {
    "collapsed": false
   },
   "outputs": [
    {
     "data": {
      "text/plain": [
       "array([ 0.00603264,  0.5214056 ,  0.09743458,  0.73979585,  0.06855319,\n",
       "        0.70332611,  0.01049383,  0.89903704,  0.67018866,  0.01144496])"
      ]
     },
     "execution_count": 69,
     "metadata": {},
     "output_type": "execute_result"
    }
   ],
   "source": [
    "X = st.beta(0.5, 0.9)\n",
    "X.rvs(10)"
   ]
  },
  {
   "cell_type": "code",
   "execution_count": 73,
   "metadata": {
    "collapsed": false,
    "slideshow": {
     "slide_type": "slide"
    }
   },
   "outputs": [
    {
     "data": {
      "image/png": "[encoded data removed]",
      "text/plain": [
       "<matplotlib.figure.Figure at 0x1117a6050>"
      ]
     },
     "metadata": {},
     "output_type": "display_data"
    }
   ],
   "source": [
    "def visualize_beta(a=0.5, b=0.9):\n",
    "    X = st.beta(a, b)\n",
    "    x = np.linspace(0, 1, 100)\n",
    "    plt.plot(x, X.pdf(x), lw=2)\n",
    "interactive(visualize_beta, a=(0.001, 100., 0.1), b=(0.001, 100., 0.1))"
   ]
  },
  {
   "cell_type": "markdown",
   "metadata": {
    "slideshow": {
     "slide_type": "slide"
    }
   },
   "source": [
    "### Questions\n",
    "Let's say that you wish to analyze a coin flipping experiment and you do not know what the probability of getting heads, $\\theta$, is. Therefore, you have to model $\\theta$ as a random variable and assign a probability density to it. Since $\\theta$ takes values between 0 and 1, you decide to assign a Beta distribution to it. Using the interactive tool above, try to find parameters $a$ and $b$ that describe the following states of knowledge:\n",
    "+ The coin is fair.\n",
    "+ The coin is slightly biased towards heads.\n",
    "+ The coin is slightly biased towards tails.\n",
    "+ The coin is definitely biased towards heads.\n",
    "+ The coin is definitely biased towards tails.\n",
    "+ The coin is definitely biased, but I don't know how."
   ]
  },
  {
   "cell_type": "markdown",
   "metadata": {
    "slideshow": {
     "slide_type": "slide"
    }
   },
   "source": [
    "### Exponential Random Variable\n",
    "\n",
    "The [Exponential Distribution](https://en.wikipedia.org/wiki/Exponential_distribution) is suitable for random variables that describe the time between events in a process in which events occure continuously and at a constant rate. In general, it can be used for random variables that are positive as a special case of the [Gamma Distribution](https://en.wikipedia.org/wiki/Gamma_distribution).\n",
    "We write:\n",
    "$$\n",
    "x|r\\sim \\mathcal{E}(x|r) = r e^{-r x},\n",
    "$$\n",
    "where $r>0$ is known as the *rate parameter*."
   ]
  },
  {
   "cell_type": "code",
   "execution_count": 110,
   "metadata": {
    "collapsed": false
   },
   "outputs": [
    {
     "data": {
      "image/png": "[encoded data removed]",
      "text/plain": [
       "<matplotlib.figure.Figure at 0x111a6e8d0>"
      ]
     },
     "metadata": {},
     "output_type": "display_data"
    }
   ],
   "source": [
    "def visualize_exponential(r=0.5):\n",
    "    X = st.expon(r)\n",
    "    x = np.linspace(X.ppf(0.001), X.ppf(0.999), 100)\n",
    "    plt.plot(x, X.pdf(x), lw=2)\n",
    "interactive(visualize_exponential, r=(0.001, 10, 0.01))"
   ]
  },
  {
   "cell_type": "markdown",
   "metadata": {
    "slideshow": {
     "slide_type": "slide"
    }
   },
   "source": [
    "### The Gaussian (Normal) Distribution\n",
    "\n",
    "The Gaussian distribution is suitable for continuous random variables with known mean, $\\mu$, and variance, $\\sigma^2$, with no other restrictions posed on them.\n",
    "We write:\n",
    "$$\n",
    "x|\\mu, \\sigma\\sim \\mathcal{N}(x|\\mu, \\sigma) = \\frac{1}{\\sigma\\sqrt{2\\pi}}e^{-\\frac{(x-\\mu)^2}{2\\sigma^2}}.\n",
    "$$\n",
    "\n",
    "Of course:\n",
    "$$\n",
    "\\mathbb{E}[X|\\mu,\\sigma] = \\mu,\n",
    "$$\n",
    "and\n",
    "$$\n",
    "\\mathbb{V}[X|\\mu,\\sigma] = \\sigma^2.\n",
    "$$"
   ]
  },
  {
   "cell_type": "code",
   "execution_count": 74,
   "metadata": {
    "collapsed": true,
    "slideshow": {
     "slide_type": "slide"
    }
   },
   "outputs": [],
   "source": [
    "X = st.norm(loc=0.5, scale=2.)"
   ]
  },
  {
   "cell_type": "code",
   "execution_count": 75,
   "metadata": {
    "collapsed": false
   },
   "outputs": [
    {
     "name": "stdout",
     "output_type": "stream",
     "text": [
      "[-1.40480312  0.32419139  3.67686951 -1.15332344  3.35935014  1.3678408\n",
      " -3.91793104 -0.37546934  2.39550956 -0.15666293]\n"
     ]
    }
   ],
   "source": [
    "print X.rvs(10)"
   ]
  },
  {
   "cell_type": "code",
   "execution_count": 79,
   "metadata": {
    "collapsed": false
   },
   "outputs": [
    {
     "data": {
      "text/plain": [
       "[<matplotlib.lines.Line2D at 0x110a94390>]"
      ]
     },
     "execution_count": 79,
     "metadata": {},
     "output_type": "execute_result"
    },
    {
     "data": {
      "image/png": "[encoded data removed]",
      "text/plain": [
       "<matplotlib.figure.Figure at 0x110325fd0>"
      ]
     },
     "metadata": {},
     "output_type": "display_data"
    }
   ],
   "source": [
    "plt.hist(X.rvs(2000), normed=True)\n",
    "x = np.linspace(-5, 6, 100)\n",
    "plt.plot(x, X.pdf(x), lw=2)"
   ]
  },
  {
   "cell_type": "code",
   "execution_count": 80,
   "metadata": {
    "collapsed": false,
    "slideshow": {
     "slide_type": "slide"
    }
   },
   "outputs": [
    {
     "data": {
      "text/plain": [
       "[<matplotlib.lines.Line2D at 0x11009d610>]"
      ]
     },
     "execution_count": 80,
     "metadata": {},
     "output_type": "execute_result"
    },
    {
     "data": {
      "image/png": "[encoded data removed]",
      "text/plain": [
       "<matplotlib.figure.Figure at 0x110c4fa50>"
      ]
     },
     "metadata": {},
     "output_type": "display_data"
    }
   ],
   "source": [
    "# The CDF of the Gaussian\n",
    "plt.plot(x, X.cdf(x))"
   ]
  },
  {
   "cell_type": "markdown",
   "metadata": {
    "slideshow": {
     "slide_type": "slide"
    }
   },
   "source": [
    "### The Central Limit Theorem\n",
    "\n",
    "The sum of $N$ independent and indentically distributed (iid) random variables starts to look like a Gaussian for large $N$.\n",
    "Mathematically, let $X_1,X_2,\\dots$ be iid random variables with mean $\\mu$ and variance $\\sigma^2$ and define the running average of the random variables:\n",
    "$$\n",
    "S_N = \\frac{X_1+\\dots+X_N}{N}.\n",
    "$$\n",
    "The Central Limit Theorem (CLT), states that:\n",
    "$$\n",
    "S_N \\sim \\mathcal{N}(S_N|\\mu, \\frac{\\sigma^2}{N}),\n",
    "$$\n",
    "for large $N$.\n",
    "We are not going to prove this, but let us test it numerically:"
   ]
  },
  {
   "cell_type": "code",
   "execution_count": 100,
   "metadata": {
    "collapsed": false,
    "slideshow": {
     "slide_type": "slide"
    }
   },
   "outputs": [
    {
     "data": {
      "image/png": "[encoded data removed]",
      "text/plain": [
       "<matplotlib.figure.Figure at 0x1113b0e10>"
      ]
     },
     "metadata": {},
     "output_type": "display_data"
    }
   ],
   "source": [
    "# Testing CLT for iid uniform random variables:\n",
    "def visualize_uniform_clt(N=2):\n",
    "    X = st.uniform()\n",
    "    mu = X.mean()\n",
    "    sigma = X.std()\n",
    "    x = X.rvs((N, 10000))\n",
    "    s = x.mean(axis=0)\n",
    "    S_N_approx = st.norm(loc=mu, scale=sigma / np.sqrt(N))\n",
    "    plt.hist(s, normed=True)\n",
    "    xx = np.linspace(S_N_approx.ppf(0.001), S_N_approx.ppf(0.999), 100)\n",
    "    plt.plot(xx, S_N_approx.pdf(xx))\n",
    "interactive(visualize_uniform_clt, N=(1, 10000, 1))"
   ]
  },
  {
   "cell_type": "code",
   "execution_count": 102,
   "metadata": {
    "collapsed": false,
    "slideshow": {
     "slide_type": "slide"
    }
   },
   "outputs": [
    {
     "data": {
      "image/png": "[encoded data removed]",
      "text/plain": [
       "<matplotlib.figure.Figure at 0x111b53a10>"
      ]
     },
     "metadata": {},
     "output_type": "display_data"
    }
   ],
   "source": [
    "# Testing CLT for iid beta random variables:\n",
    "def visualize_beta_clt(N=2, a=0.25, b=0.5):\n",
    "    X = st.beta(a, b)\n",
    "    mu = X.mean()\n",
    "    sigma = X.std()\n",
    "    x = X.rvs((N, 10000))\n",
    "    s = x.mean(axis=0)\n",
    "    S_N_approx = st.norm(loc=mu, scale=sigma / np.sqrt(N))\n",
    "    plt.hist(s, normed=True)\n",
    "    xx = np.linspace(S_N_approx.ppf(0.001), S_N_approx.ppf(0.999), 100)\n",
    "    plt.plot(xx, S_N_approx.pdf(xx))\n",
    "interactive(visualize_beta_clt, N=(1, 10000, 1), a=(0.01, 10, 0.01), b=(0.01, 10, 0.01))"
   ]
  },
  {
   "cell_type": "code",
   "execution_count": 105,
   "metadata": {
    "collapsed": false,
    "slideshow": {
     "slide_type": "slide"
    }
   },
   "outputs": [
    {
     "data": {
      "image/png": "[encoded data removed]",
      "text/plain": [
       "<matplotlib.figure.Figure at 0x111a7c5d0>"
      ]
     },
     "metadata": {},
     "output_type": "display_data"
    }
   ],
   "source": [
    "# Testing CLT for iid exponential random variables:\n",
    "def visualize_exponential_clt(N=2, r=0.5):\n",
    "    X = st.expon(r)\n",
    "    mu = X.mean()\n",
    "    sigma = X.std()\n",
    "    x = X.rvs((N, 10000))\n",
    "    s = x.mean(axis=0)\n",
    "    S_N_approx = st.norm(loc=mu, scale=sigma / np.sqrt(N))\n",
    "    plt.hist(s, normed=True)\n",
    "    xx = np.linspace(S_N_approx.ppf(0.001), S_N_approx.ppf(0.999), 100)\n",
    "    plt.plot(xx, S_N_approx.pdf(xx))\n",
    "interactive(visualize_exponential_clt, N=(1, 10000, 1), a=(0.01, 10, 0.01), b=(0.01, 10, 0.01))"
   ]
  },
  {
   "cell_type": "code",
   "execution_count": null,
   "metadata": {
    "collapsed": true
   },
   "outputs": [],
   "source": []
  }
 ],
 "metadata": {
  "kernelspec": {
   "display_name": "Python 2",
   "language": "python",
   "name": "python2"
  },
  "language_info": {
   "codemirror_mode": {
    "name": "ipython",
    "version": 2
   },
   "file_extension": ".py",
   "mimetype": "text/x-python",
   "name": "python",
   "nbconvert_exporter": "python",
   "pygments_lexer": "ipython2",
   "version": "2.7.11"
  },
  "latex_envs": {
   "bibliofile": "biblio.bib",
   "cite_by": "apalike",
   "current_citInitial": 1,
   "eqLabelWithNumbers": true,
   "eqNumInitial": 0
  }
 },
 "nbformat": 4,
 "nbformat_minor": 0
}
